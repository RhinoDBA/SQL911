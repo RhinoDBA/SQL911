{
    "metadata": {
        "kernelspec": {
            "name": "SQL",
            "display_name": "SQL",
            "language": "sql"
        },
        "language_info": {
            "name": "sql",
            "version": ""
        }
    },
    "nbformat_minor": 2,
    "nbformat": 4,
    "cells": [
        {
            "cell_type": "markdown",
            "source": [
                "[Top Tips for Effective SQL Server Database Maintenance | Microsoft Docs](https://docs.microsoft.com/en-us/previous-versions/technet-magazine/cc671165(v=msdn.10)?redirectedfrom=MSDN)"
            ],
            "metadata": {
                "azdata_cell_guid": "e7bb1d30-1990-4628-a2bb-db9d91929694"
            },
            "attachments": {}
        }
    ]
}