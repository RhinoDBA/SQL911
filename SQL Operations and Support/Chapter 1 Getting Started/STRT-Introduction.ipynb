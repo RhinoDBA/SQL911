{
    "metadata": {
        "kernelspec": {
            "name": "SQL",
            "display_name": "SQL",
            "language": "sql"
        },
        "language_info": {
            "name": "sql",
            "version": ""
        },
        "extensions": {
            "azuredatastudio": {
                "version": 1,
                "views": []
            }
        }
    },
    "nbformat_minor": 2,
    "nbformat": 4,
    "cells": [
        {
            "cell_type": "markdown",
            "source": [
                "![CH1-ADS.png](.\\Media\\CH1-ADS.png)\n",
                "\n",
                "> ### <span style=\"color:#007fff\"><b>Author: Kevin R. Warren, Principal Consultant Azure Cloud and Artificial Intelligence, Microsoft</b></span>\n",
                "> \n",
                "> <span style=\"font-size: 9pt;\">Full disclosure.....I am a Microsoft employee, but the content presented in this notebook reprents my own personal views and not the views of Microsoft Corporation.&nbsp; While much of the content in this notebook is original, it is not exclusively original.&nbsp; Many of the references I use come from Microsoft SQL Docs on-line and from some of the publically available content from our MVP's that are credited in the next section.</span>"
            ],
            "metadata": {
                "azdata_cell_guid": "49cbbdae-6b1d-48b0-9135-a514453d1c2f"
            },
            "attachments": {}
        },
        {
            "cell_type": "markdown",
            "source": [
                "# <span style=\"color:#cc5500\">Introduction</span>\n",
                "\n",
                "Hello, welcome to this Notebook in Azure Data Studio.\n",
                "\n",
                "I would like to express my deepest gratitude to my many wonderful Microsoft colleagues who helped me in the journey to bringing this notebook to the public, and without their guidance and encouragment, would have never been completed.  Thank you to Drew Skwiers-Koballa, Julie Koesmarno, Vicky Harp, Alan Yu and Barbara Valdez Mireles of the SQL Tools team.  They were so instrumental in helping me scale this notebook for broad use and to make it user friendly.  Also thanks to many of our favorite SQL Global MVP hero's like Kimberly Tripp, Paul Randal, Kalen Delaney, Glenn Berry, Brent Ozar, and Buck Woody, who have been instrumental in shaping my skills and for their amazing public content that they have so graciously made available to all of lovers of data.  Too many to name, but I am grateful for all of them.  And of course so many thanks to my wonderful wife Sheryl who puts up with all of my years of extensive travel and late nights supporting our SQL customers.\n",
                "\n",
                "Let me start with a funny story.\n",
                "\n",
                "I served as an elisted Airman in the US Airforce and then as an Officer in the Army as a Tank commander on the M1 Abrams.  After my career in the Armed Services, I first fell in love with SQL Server in 1999 with our SQL 7 Release.  I was working as a Jr. DBA for a small company in North Carolina.  I knew virtually nothing about SQL Server and attended every conference I could afford and read every article I could find.   Over the next several years, I worked my way up the DBA ladder when I became the Sr. DBA for one of the largest banks in the US using SQL Server for eDiscovery and cyber forensics.   My dream was to become a Microsoft SQL Server Consultant.  After 3 grueling Finals-Day interviews at  Microsoft, and 3 heart breaking rejections for each of the 3 years, I was finally hired as a SQL Server Consultant in 2006 on my 4th attempt.  \n",
                "\n",
                "I had no idea what life would be like as a Microsoft Consultant.  I was about to find out.  \n",
                "\n",
                "My very first solo engagement was at a medical software company in the Chicago area.  After badging in on day one, the receptionist escorted me to the office of the CIO where the entire executive leadership team was assembled in the conference room.  All of them had suits on.  I had my Microsoft Logo'd polo shirt.  That was my first mistake.  The CIO said to me \"Kevin, welcome aboard and we are glad you are here.  We have thrown all of our brightest minds and our most senior developers at solving our problem and none of us can come up with a solution to our performance problem we are having with our database.  So we brought you in to fix what no one else has been able to fix.  Our CEO is personal friends with your Microsoft President Steve Ballmer, and Steve told him you are the guy to fix this\".  What did I do?  I started throwing up in my mouth and ran to the bathroom where I hugged the toilet for the next 30 minutes asking God, \"How do I get out of this?\"  After I composed myself, I returned to the meeting where everyone was so gracious and tried not to laugh.  I still had sweat pouring down my face and my shirt was a mess.  That was my first experience as a Microsoft Consultant, and thankfully I am still here after more than 15 years.\n",
                "\n",
                "This notebook is dedicated to all Data Gunslingers out there that have had their commode-hugging moments too!\n",
                "\n",
                "Now that you have cloned this notebook locally, you will notice that it is not complete.  There are so many aspects of SQL Server and Data, that if I tried to capture them all on day-1, before making this notebook public, it would never get published.  So, this notebook is a work in progress.  Feel free to check back from time to time for new content as I add sections for Azure SQL DB, Azure SQL Managed Instance, SQL Server on Azure VM's and so much more.\n",
                "\n",
                "All my best in your journey!\n",
                "\n",
                "Kevin\n",
                "\n",
                "The purpose of this notebook is to provide database administrators (DBAs) with a clear and concise guide to the tasks and settings necessary to keep SQL Server 2016+ instances running safely and efficiently. The scripts and schedules in this guide are intended to be a starting place for maintenance. Each organization and application is different, so changes in practice to the setting and schedules in this document are expected. Conventions used in the Operations and Support Jupyter notebook are as follows:\n",
                "\n",
                "- <span style=\"color:#cc5500\">Orange</span> colored labels are Titles and Headings\n",
                "- <span style=\"color:#007fff\">Blue</span> colored hyper links are clickable and will take you to a webpage for references and learning\n",
                "- <span style=\"color:#00cc99\">Green</span> colored lables are action items where the reader performs a tasks Getting started with Azure Data Studio may be just a bit confusing when you use it for the first time.  This notebook will help you learn the basics so that you can get up and running quickly.  \n",
                "\n",
                "> ### <span style=\"color:#cc5500\">Topics covered in this Notebook</span>\n",
                "> \n",
                "> - **Getting Started with Azure Data Studio**\n",
                "> - **Running your first query in Azure Data Studio**\n",
                "> - **Azure Data Studio Learning Paths**\n",
                "\n",
                "### <span style=\"color:#cc5500\"><br></span>\n",
                "\n",
                "## <span style=\"color:#cc5500\">Getting Started with Azure Data Studio</span>\n",
                "\n",
                "To begin, this is a very helpful youtube video that provides an overview of Azure Data Studio (ADS): \n",
                "\n",
                "- Anna Hoffman and Warwick Rudd of Microsoft discuss  [The A to S of Azure Data Studio | Data Exposed: MVP Edition - YouTube](https://www.youtube.com/watch?v=F0bIBFuH93c)\n",
                "- This is a good article and a getting started video by Vicki Harp of Microsoft [Use Jupyter Notebooks in Azure Data Studio - Azure Data Studio | Microsoft Docs](https://docs.microsoft.com/en-us/sql/azure-data-studio/notebooks/notebooks-guidance?view=sql-server-ver15)\n",
                "- How to use Jupyter Notebooks in Azure Data Studio on Azure Friday with Vicky Harp and Scott Hanselman [How to use Jupyter Notebooks in Azure Data Studio | Azure Friday - YouTube](https://www.youtube.com/watch?v=pHuRj9ty9cI&list=RDCMUC0m-80FnNY2Qb7obvTL_2fA&start_radio=1&rv=pHuRj9ty9cI&t=36)\n",
                "- Build SQL Database Projects Easily in Azure Data Studio with Drew Skwiers-Koballa [Build SQL Database Projects Easily in Azure Data Studio | Data Exposed - YouTube](https://www.youtube.com/watch?v=I6T9OA9YBGg)\n",
                "- Azure Data Studio - The New Frontier with Warwick Rudd [Azure Data Studio - The New Frontier - Warwick Rudd - YouTube](https://www.youtube.com/watch?v=A5BhIMNKFok)\n",
                "\n",
                "## <span style=\"color:#cc5500\"><br></span>\n",
                "\n",
                "## <span style=\"color:#cc5500\">Running your first Query in Azure Data Studio</span>\n",
                "\n",
                "Quickstart: Use Azure Data Studio to connect and query SQL Server\n",
                "\n",
                "This quickstart shows how to use Azure Data Studio to connect to SQL Server, and then use Transact-SQL (T-SQL) statements to create the _TutorialDB_ used in Azure Data Studio tutorials.\n",
                "\n",
                "## [](https://docs.microsoft.com/en-us/sql/azure-data-studio/quickstart-sql-server?view=sql-server-ver15#prerequisites)Prerequisites\n",
                "\n",
                "To complete this quickstart, you need Azure Data Studio, and access to SQL Server.\n",
                "\n",
                "- [Install Azure Data Studio](https://docs.microsoft.com/en-us/sql/azure-data-studio/download-azure-data-studio?view=sql-server-ver15).\n",
                "\n",
                "If you don't have access to a SQL Server, select your platform from the following links (make sure you remember your SQL Login and Password!):\n",
                "\n",
                "- [Windows - Download SQL Server 2017 Developer Edition](https://www.microsoft.com/sql-server/sql-server-downloads)\n",
                "- [macOS - Download SQL Server 2017 on Docker](https://docs.microsoft.com/en-us/sql/linux/quickstart-install-connect-docker?view=sql-server-ver15)\n",
                "- [Linux - Download SQL Server 2017 Developer Edition](https://docs.microsoft.com/en-us/sql/linux/sql-server-linux-overview?view=sql-server-ver15#install) - You only need to follow the steps up to _Create and Query Data_.\n",
                "\n",
                "## <span style=\"color: rgb(0, 204, 153)\">Connect to a SQL Server.</span>\n",
                "\n",
                "1. Start Azure Data Studio\n",
                "2. The first time you run Azure Data Studio the Welcome page should open. If you don't see the Welcome page, select Help \\> Welcome. Select New Connection to open the Connection pane\n",
                "\n",
                "![CH1-WelcomeScreen.jpg](.\\Media\\CH1-WelcomeScreen.jpg)\n",
                "\n",
                "3. This notebook displays SQL Login, but Windows Authentication is supported. It is recommended that you connect to a test server and not a production server. Fill in the fields as follows:\n",
                "\n",
                "- Server Name: Enter server name here. For example, localhost.\n",
                "- Authentication Type: SQL Login\n",
                "- User name: User name for the SQL Server\n",
                "- Password: Password for the SQL Server\n",
                "- Database Name:\n",
                "- Server Group:\n",
                "\n",
                "![CH1-ConnectSQL.jpg](.\\Media\\CH1-ConnectSQL.jpg)\n",
                "\n",
                "## <span style=\"color: rgb(0, 204, 153)\">Create a Database</span>\n",
                "\n",
                "The following steps create a database named TutorialDB.  NOTE: (Consider keeping this test database for awhile as this database will be referred to frequently in many of these notebooks)\n",
                "\n",
                "1. Right-click on your server, localhost, and select New Query.\n",
                "2. If you are still connected to your SQL Instance, make sure your kernel has \"SQL\" selected in the drop-down and run the following code to create the tutorial database."
            ],
            "metadata": {
                "azdata_cell_guid": "dd29aeda-f0d5-43cd-9862-8d97400afb45"
            },
            "attachments": {}
        },
        {
            "cell_type": "code",
            "source": [
                "USE master\r\n",
                "GO\r\n",
                "IF NOT EXISTS (\r\n",
                " SELECT name\r\n",
                " FROM sys.databases\r\n",
                " WHERE name = N'TutorialDB'\r\n",
                ")\r\n",
                " CREATE DATABASE [TutorialDB];\r\n",
                "GO\r\n",
                "IF SERVERPROPERTY('ProductVersion') > '12'\r\n",
                " ALTER DATABASE [TutorialDB] SET QUERY_STORE=ON;\r\n",
                "GO"
            ],
            "metadata": {
                "azdata_cell_guid": "488ed783-d452-4746-8b87-ba27e31a0e27"
            },
            "outputs": [],
            "execution_count": null
        },
        {
            "cell_type": "markdown",
            "source": [
                "Click the your Server Connections in the top left and verify that you have created the TutorialDB database and that you see it in your database list\r\n",
                "\r\n",
                "3. Create a table in the TutorialDB"
            ],
            "metadata": {
                "azdata_cell_guid": "fbf5b190-0f79-4c5b-b42b-7d603abbb8bd"
            },
            "attachments": {}
        },
        {
            "cell_type": "code",
            "source": [
                "-- Create a new table called 'Customers' in schema 'dbo'\r\n",
                "-- Drop the table if it already exists\r\n",
                "USE TutorialDB\r\n",
                "GO\r\n",
                "IF OBJECT_ID('dbo.Customers', 'U') IS NOT NULL\r\n",
                " DROP TABLE dbo.Customers;\r\n",
                "GO\r\n",
                "-- Create the table in the specified schema\r\n",
                "CREATE TABLE dbo.Customers\r\n",
                "(\r\n",
                " CustomerId int NOT NULL PRIMARY KEY, -- primary key column\r\n",
                " Name nvarchar(50) NOT NULL,\r\n",
                " Location nvarchar(50) NOT NULL,\r\n",
                " Email nvarchar(50) NOT NULL\r\n",
                ");"
            ],
            "metadata": {
                "azdata_cell_guid": "a23b5c12-aac6-4627-b59a-27be6e4dca1d"
            },
            "outputs": [],
            "execution_count": null
        },
        {
            "cell_type": "markdown",
            "source": [
                "4. Insert some rows of data into the newly created dbo.Customers table in the TutorialDB database\r\n",
                ""
            ],
            "metadata": {
                "azdata_cell_guid": "c1a6c95b-d343-474c-b678-9c4e4366f436"
            }
        },
        {
            "cell_type": "code",
            "source": [
                "-- Insert rows into table 'Customers'\r\n",
                "USE TutorialDB\r\n",
                "GO\r\n",
                "INSERT INTO dbo.Customers\r\n",
                " ([CustomerId], [Name], [Location], [Email])\r\n",
                "VALUES\r\n",
                " ( 1, N'Orlando', N'Australia', N''),\r\n",
                " ( 2, N'Keith', N'India', N'keith0@adventure-works.com'),\r\n",
                " ( 3, N'Donna', N'Germany', N'donna0@adventure-works.com'),\r\n",
                " ( 4, N'Janet', N'United States', N'janet1@adventure-works.com')\r\n",
                "GO"
            ],
            "metadata": {
                "azdata_cell_guid": "099fb354-66d9-4f6d-b15e-4aaecdf4bb68"
            },
            "outputs": [],
            "execution_count": null
        },
        {
            "cell_type": "markdown",
            "source": [
                "5. We will now run a query to view the records you insterted into the dbo.Customers table"
            ],
            "metadata": {
                "azdata_cell_guid": "1134349f-02c2-49dc-96d9-668bf59ce0e4"
            }
        },
        {
            "cell_type": "code",
            "source": [
                "-- Select rows from table 'Customers'\r\n",
                "USE TutorialDB\r\n",
                "GO\r\n",
                "SELECT * FROM dbo.Customers;"
            ],
            "metadata": {
                "azdata_cell_guid": "c592af6e-0e14-4055-b6d7-b405db37fbba",
                "tags": []
            },
            "outputs": [],
            "execution_count": null
        },
        {
            "cell_type": "markdown",
            "source": [
                "### Consider saving this Database on your test server as it will be used in the next Getting Started Notebook Query Executions"
            ],
            "metadata": {
                "azdata_cell_guid": "11b23b80-266d-40d9-b39d-865491bb03c4"
            },
            "attachments": {}
        },
        {
            "cell_type": "markdown",
            "source": [
                "# Appendix\n",
                "\n",
                "**These six Pluralsight Courses go into more detail about how to run these queries and interpret the results**\n",
                "\n",
                "- [Azure SQL Database: Diagnosing Performance Issues with DMVs](https://bit.ly/2meDRCN)\n",
                "- [SQL Server 2017: Diagnosing Performance Issues with DMVs](https://bit.ly/2FqCeti)\n",
                "- [SQL Server 2017: Diagnosing Configuration Issues with DMVs](https://bit.ly/2MSUDUL)\n",
                "- [SQL Server 2014 DMV Diagnostic Queries – Part 1](https://bit.ly/2plxCer)\n",
                "- [SQL Server 2014 DMV Diagnostic Queries – Part 2](https://bit.ly/2IuJpzI)\n",
                "- [SQL Server 2014 DMV Diagnostic Queries – Part 3](https://bit.ly/2FIlCPb)\n",
                "- [Microsoft Azure Learn](https://bit.ly/2O0Hacc)"
            ],
            "metadata": {
                "azdata_cell_guid": "b0e2bf8f-701e-4307-a22e-ba5bae8dee3e"
            },
            "attachments": {}
        }
    ]
}